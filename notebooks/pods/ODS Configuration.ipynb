{
 "cells": [
  {
   "cell_type": "markdown",
   "metadata": {},
   "source": [
    "# Local Config File\n",
    "\n",
    "## Open Data Science Initiative\n",
    "\n",
    "### 3rd November 2014 Neil D. Lawrence\n",
    "\n",
    "To make use of the python open data science software, you need to create a local configuration file in your home directory called `.ods_user.cfg` which stores the following entries."
   ]
  },
  {
   "cell_type": "raw",
   "metadata": {},
   "source": [
    "# This is a user's personal configuration file for ods\n",
    "[datasets]\n",
    "# location for the local data cache\n",
    "dir=~/ods_data_cache/\n",
    "\n",
    "[google docs] \n",
    "# Set the email address of an account to access google doc information.\n",
    "user = user@gmail.com\n",
    "# Set the password of an account to access google doc information.\n",
    "password = password\n",
    "\n",
    "[Gmail]\n",
    "user = user@gmail.com\n",
    "name = Name Surname"
   ]
  },
  {
   "cell_type": "code",
   "execution_count": null,
   "metadata": {},
   "outputs": [],
   "source": []
  }
 ],
 "metadata": {
  "kernelspec": {
   "display_name": "Python 3",
   "language": "python",
   "name": "python3"
  },
  "language_info": {
   "codemirror_mode": {
    "name": "ipython",
    "version": 3
   },
   "file_extension": ".py",
   "mimetype": "text/x-python",
   "name": "python",
   "nbconvert_exporter": "python",
   "pygments_lexer": "ipython3",
   "version": "3.6.10"
  }
 },
 "nbformat": 4,
 "nbformat_minor": 1
}
